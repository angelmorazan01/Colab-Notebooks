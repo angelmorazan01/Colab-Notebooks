{
  "nbformat": 4,
  "nbformat_minor": 0,
  "metadata": {
    "kernelspec": {
      "display_name": "Python 3",
      "language": "python",
      "name": "python3"
    },
    "language_info": {
      "codemirror_mode": {
        "name": "ipython",
        "version": 3
      },
      "file_extension": ".py",
      "mimetype": "text/x-python",
      "name": "python",
      "nbconvert_exporter": "python",
      "pygments_lexer": "ipython3",
      "version": "3.7.7"
    },
    "colab": {
      "provenance": []
    }
  },
  "cells": [
    {
      "cell_type": "markdown",
      "metadata": {
        "id": "4JTWlI9mcwpN"
      },
      "source": [
        "### 1. Número de condición de una matriz\n",
        "\n",
        "* En general un <b>*número de condición*</b> indica cuanto cambia la salida de una función al modificar los parámetros de entrada.\n",
        "\n",
        "* Un problema numérico se considera <b>*bien comportado* o *estable*</b> cuando la función o matriz asociada tiene un número de condición pequeño.\n",
        "\n",
        "* Un problema numérico se considera <b>*mal comportado* o *inestable*</b> cuando la función o matriz asociada tiene un número de condición grande."
      ]
    },
    {
      "cell_type": "markdown",
      "metadata": {
        "id": "fJtRkSMwcwpV"
      },
      "source": [
        "### 2. El vector residual y el número de condición\n",
        "\n",
        "* Considérese el sistema $A x = \\bf{b}$.\n",
        "\n",
        "* En general se obtiene una solución $\\overline{\\bf{x}}$ aproximada y $\\bf{x}$ no se conoce con toda exactitud.\n",
        "\n",
        "* Por consiguiente el error $\\bf{e} = \\overline{x} - x$</b> no se puede calcular directamente y es necesario introducir una manera de calcular la estimación del error.\n",
        "\n",
        "* El <b>vector residual $r$</b> $= A\\overline{x} - \\bf{b}$ es una indicador alternativo para el error en el cálculo de un sistema de ecuaciones lineales.\n",
        "\n",
        "* ¿Qué tan buen indicador del error es el vector residual?\n",
        "\n",
        "* Justamente en este caso el número de condición indica que tan buen indicador es el vector residual."
      ]
    },
    {
      "cell_type": "markdown",
      "metadata": {
        "id": "WQWjIuBecwpY"
      },
      "source": [
        "### 3. Número de condición\n",
        "\n",
        "* $\\kappa (A) =\\ \\parallel A \\parallel \\parallel A^{-1} \\parallel$\n",
        "\n",
        "* Si $A$ es una matriz no-singular\n",
        "\n",
        "* $1 = \\parallel I \\parallel = \\parallel A A^{-1} \\parallel\\ \\leq\\ \\parallel A \\parallel \\parallel A^{-1} \\parallel = \\kappa (A)$ \n",
        "\n",
        "* Si $\\kappa (𝐴) \\approx 1$ el vector residual ofrece una buena medida del error en la solución aproximada. En caso contrario, es un indicador pobre de la precisión de la solución aproximada.\n"
      ]
    },
    {
      "cell_type": "markdown",
      "metadata": {
        "id": "gm14m5kpcwpa"
      },
      "source": [
        "### 4. Ejemplo\n",
        "\n",
        "Calcular la solución de los sistemas\n",
        "\n",
        "$4.1x + 2.8y = 4.1$\n",
        "\n",
        "$9.7x + 6.6y = 9.7$\n",
        "\n",
        "***\n",
        "\n",
        "$4.1x + 2.8y = \\bf{4.11}$\n",
        "\n",
        "$9.7x + 6.6y = 9.7$"
      ]
    },
    {
      "cell_type": "code",
      "metadata": {
        "id": "p4FfVhhugOZb",
        "colab": {
          "base_uri": "https://localhost:8080/"
        },
        "outputId": "4a3932a5-8fe1-4321-91e3-44242b282243"
      },
      "source": [
        "import numpy as np\n",
        "import scipy.linalg as sl\n",
        "A = np.array([[4.1,2.8], [9.7,6.6]])\n",
        "print(A)\n",
        "\n",
        "print(np.linalg.cond(A))"
      ],
      "execution_count": null,
      "outputs": [
        {
          "output_type": "stream",
          "text": [
            "[[4.1 2.8]\n",
            " [9.7 6.6]]\n",
            "1622.9993838564628\n"
          ],
          "name": "stdout"
        }
      ]
    },
    {
      "cell_type": "code",
      "metadata": {
        "colab": {
          "base_uri": "https://localhost:8080/"
        },
        "id": "OOJhBov16T4u",
        "outputId": "0d8cfb48-a4bb-42b9-c988-c1187b607123"
      },
      "source": [
        "import numpy as np\n",
        "import scipy.linalg as sl\n",
        "A = np.array([[1,2], [1.001,2]])\n",
        "print(A)\n",
        "\n",
        "print(np.linalg.cond(A))"
      ],
      "execution_count": null,
      "outputs": [
        {
          "output_type": "stream",
          "text": [
            "[[1.    2.   ]\n",
            " [1.001 2.   ]]\n",
            "5001.000300040771\n"
          ],
          "name": "stdout"
        }
      ]
    },
    {
      "cell_type": "code",
      "metadata": {
        "colab": {
          "base_uri": "https://localhost:8080/"
        },
        "id": "lktGUDq-duEC",
        "outputId": "576bc558-f9ec-4d24-f679-902963756ae4"
      },
      "source": [
        "import numpy as np\n",
        "import scipy.linalg as sl\n",
        "A = np.array([[2.01,1.99], [1.99,2.01]])\n",
        "print(A)\n",
        "\n",
        "print(np.linalg.cond(A))"
      ],
      "execution_count": null,
      "outputs": [
        {
          "output_type": "stream",
          "text": [
            "[[2.01 1.99]\n",
            " [1.99 2.01]]\n",
            "200.0000000000026\n"
          ],
          "name": "stdout"
        }
      ]
    },
    {
      "cell_type": "markdown",
      "metadata": {
        "id": "qmfOfdLQcwpb"
      },
      "source": [
        "### 5. Ejemplo\n",
        "\n",
        "Calcular la solución de los sistemas\n",
        "\n",
        "$3x + 2y = 5$\n",
        "\n",
        "$-x + 8y = 3$\n",
        "\n",
        "***\n",
        "\n",
        "$3x + 2y = \\bf{5.01}$\n",
        "\n",
        "$-x + 8y = 3$"
      ]
    },
    {
      "cell_type": "code",
      "metadata": {
        "id": "yDf7TSd5cwpb",
        "colab": {
          "base_uri": "https://localhost:8080/"
        },
        "outputId": "63db0c31-f832-42ae-a97f-3ad2ad333da8"
      },
      "source": [
        "import numpy as np\n",
        "import scipy.linalg as sl\n",
        "A = np.array([[3,2], [-1,8]])\n",
        "print(A)\n",
        "B = np.array([5,3])\n",
        "print(B)\n",
        "print(np.linalg.solve(A, B))\n",
        "\n",
        "C = np.array([5.01,3])\n",
        "\n",
        "print(np.linalg.solve(A, C))\n",
        "\n",
        "print(np.linalg.cond(A))"
      ],
      "execution_count": null,
      "outputs": [
        {
          "output_type": "stream",
          "text": [
            "[[ 3  2]\n",
            " [-1  8]]\n",
            "[5 3]\n",
            "[1.30769231 0.53846154]\n",
            "[1.31076923 0.53884615]\n",
            "2.6180339887498945\n"
          ],
          "name": "stdout"
        }
      ]
    }
  ]
}