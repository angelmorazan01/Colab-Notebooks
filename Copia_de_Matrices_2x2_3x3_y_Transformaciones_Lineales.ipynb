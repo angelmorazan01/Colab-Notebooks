{
  "nbformat": 4,
  "nbformat_minor": 0,
  "metadata": {
    "colab": {
      "provenance": [],
      "collapsed_sections": []
    },
    "kernelspec": {
      "name": "python3",
      "display_name": "Python 3"
    }
  },
  "cells": [
    {
      "cell_type": "markdown",
      "metadata": {
        "id": "LWq58OckH42p"
      },
      "source": [
        "# Matriz Inversa"
      ]
    },
    {
      "cell_type": "markdown",
      "metadata": {
        "id": "hDIjcdWre86b"
      },
      "source": [
        "Recodemos que cuando el determinante asociado a una matriz cuadrada es distinto de cero, la matriz tiene un inverso multiplicativo. Como los casos que nos interesa en este notebook son los de matrices de $2 \\times 2$ y de $3 \\times 3$, encontraremos explícitamente la forma de la matriz inversa en el caso de $3 \\times 3$ y pediremos al usuario hacer lo propio para el caso de $2 \\times 2$. "
      ]
    },
    {
      "cell_type": "markdown",
      "metadata": {
        "id": "MHZCdR6lfpxg"
      },
      "source": [
        "Supongamos que el determinante $\\Delta$ de la matriz original no es cero, $\\Delta \\neq 0$, y planteemos la existencia de otra matriz, la matriz inversa, cuyo producto con la original sea el elemento neutro, es decir,\n",
        "\n",
        "![](https://i.imgur.com/68Hdl0j.png)\n",
        "\n",
        "Como el producto de la izquierda es igual a la matriz de la derecha, las\n",
        "entradas correspondientes deben coincidir y eso nos lleva a plantear 3 sistemas\n",
        "de 3 ecuaciones con 3 incógnitas, cada uno de los cuales tiene como determinante\n",
        "el de la matriz original. Uno de esos sistemas es el siguiente (recuerde\n",
        "que $a,\\ldots,i$ están dados, y que $p,\\ldots,x$ son las incógnitas):\n",
        "\n",
        "![](https://i.imgur.com/24wm4cP.png)\n",
        "\n",
        "Podemos aplicar la regla de Cramer para obtener\n",
        "\n",
        "![](https://i.imgur.com/JfGOKsm.png)\n",
        "\n",
        "El lector puede comprobar que\n",
        ">$p$ es el cociente del *cofactor* de a entre $\\Delta$;  \n",
        ">$s$ es el cociente del *cofactor* de b entre $\\Delta$;  \n",
        ">$v$ es el cociente del *cofactor* de c entre $\\Delta$.\n",
        "\n",
        "De hecho, la forma de obtener cada elemento de la matriz inversa es la siguiente:\n",
        "\n",
        "1. Tómese el elemento de la matriz original que ocupa el lugar simétrico\n",
        "respecto a la diagonal principal (de arriba a la izquierda a abajo a la derecha).\n",
        "2. Fórmese el *cofactor* de dicho elemento simétrico.\n",
        "3. Divídase el número anterior entre el determinante $\\Delta$.\n",
        "\n",
        "Entonces, la matriz inversa tiene la forma:\n",
        "\n",
        "![](https://i.imgur.com/KERqQ7E.png)\n",
        "\n",
        "Recordemos que la matriz en el lado derecho de la igualdad anterior es la traspuesta de la matriz de cofactores multiplicada por el determinante $\\Delta$. Por tanto, en general, dada una matriz $M$ de tamaño $3 \\times 3$ se tiene que\n",
        "\n",
        "$$M^{-1} = \\tfrac{1}{\\det{M}}\\mathrm{Cof}(M)^{\\top}, \\qquad (1)$$\n",
        "\n",
        "donde $\\mathrm{Cof}(M)$ denota la matriz de cofactores de $M$."
      ]
    },
    {
      "cell_type": "markdown",
      "metadata": {
        "id": "zTpYUHPikMdA"
      },
      "source": [
        "Ahora bien, como se ha de suponer ya, algunas librerias de Python, tales como `NumPy` o `SymPy`, tienen funciones integradas que nos permiten calcular la inversa de una matriz de manera inmediata. Aún así, con la intención de continuar nuestra experiencia con programación en Python, procederemos a implementar una función que nos permita calcular la inversa de una matriz $3 \\times 3$ utilizando la fórmula $(1)$. A pesar de que por el momento nos interesan solamente matrices con entradas numéricas, usaremos el módulo de `SymPy` para construir tal función por si nos es necesario utilizarla después para calcular inversas de matrices simbólicas:"
      ]
    },
    {
      "cell_type": "code",
      "metadata": {
        "id": "zXFGneDSeU6a"
      },
      "source": [
        "import sympy as sym\n",
        "import itertools as itools # Para obtener el producto cartesiano de dos conjuntos\n",
        "\n",
        "def matriz_inversa_3x3(matriz):\n",
        "    matriz = sym.Matrix(matriz) # Convertir a matriz simbólica\n",
        "    if matriz.det() != 0:\n",
        "        matriz_cofactores = sym.zeros(3, 3) # Crear la matriz CERO de 3x3 (simbólica)\n",
        "        for c in itools.product({0,1,2}, {0,1,2}): # Generar el producto cartesiano {1,2,3}x{1,2,3}\n",
        "            matriz_cofactores[c] = matriz.cofactor(c[0], c[1]) # Asignar a la entrada [i,j] el cofactor ij de 'matriz'\n",
        "        return (1/matriz.det()) * matriz_cofactores.transpose() # Implementación de la fórmula (1)\n",
        "    return 'La matriz no es invertible' # ¿Qué pasó en el 'else' para el 'if'?"
      ],
      "execution_count": null,
      "outputs": []
    },
    {
      "cell_type": "markdown",
      "metadata": {
        "id": "SYPI82bLByGs"
      },
      "source": [
        "**Nota.** Si bien lo anterior es un código para calcular la inversa 'casi a mano', hemos usado la función `cofactor` de `SymPy` para el cálculo de cofactores (como su nombre lo indica)."
      ]
    },
    {
      "cell_type": "markdown",
      "metadata": {
        "id": "FPuQy1oGxuMw"
      },
      "source": [
        "**Ejemplo.** Calculemos la inversa de la matriz\n",
        "\n",
        "$$\n",
        "M = \\left(\n",
        "  \\begin{array}{ccr}\n",
        "    3 & 0 & 2 \\\\\n",
        "    2 & 0 & -2 \\\\\n",
        "    0 & 1 & 1\n",
        "  \\end{array}\n",
        "\\right).\n",
        "$$"
      ]
    },
    {
      "cell_type": "code",
      "metadata": {
        "id": "y-t80UecxtcU"
      },
      "source": [
        "M = [[3,0,2],[2,0,-2],[0,1,1]]\n",
        "matriz_inversa_3x3(M)"
      ],
      "execution_count": null,
      "outputs": []
    },
    {
      "cell_type": "markdown",
      "metadata": {
        "id": "jnnTcxsQznOc"
      },
      "source": [
        "**Ejercicio 1.** Implemente una función que retorne la inversa de una matriz de tamaño $2 \\times 2$."
      ]
    },
    {
      "cell_type": "code",
      "metadata": {
        "id": "ZlTHD-Ku1L7X"
      },
      "source": [],
      "execution_count": null,
      "outputs": []
    },
    {
      "cell_type": "markdown",
      "metadata": {
        "id": "t1ySX3mL1MmV"
      },
      "source": [
        "**Ejercicio 2.** Calcule la inversa de la siguiente matriz usando la función que implementó:\n",
        "\n",
        "$$\n",
        "M = \\left(\n",
        "  \\begin{array}{rr}\n",
        "    -2 & 0 \\\\\n",
        "    0 & -2\n",
        "  \\end{array}\n",
        "\\right).\n",
        "$$"
      ]
    },
    {
      "cell_type": "code",
      "metadata": {
        "id": "rKWMUM_vIATX"
      },
      "source": [],
      "execution_count": null,
      "outputs": []
    },
    {
      "cell_type": "markdown",
      "metadata": {
        "id": "ARdTak-rHyog"
      },
      "source": [
        "# Matriz de una transformación lineal"
      ]
    },
    {
      "cell_type": "markdown",
      "metadata": {
        "id": "zVKP4V3KH3rP"
      },
      "source": [
        "Cuando dos conjuntos $A$ y $B$ tienen un mismo tipo de estructura, dada una\n",
        "función entre ellos, $T: A \\mapsto B$, es importante saber si la función *respeta* la estructura.\n",
        "\n",
        "El plano y el espacio cartesianos tienen varios tipos de estructuras, en particular la de espacio vectorial, y hemos visto que una condición necesaria y\n",
        "suficiente para que un subconjunto no vacío de un espacio vectorial sea espacio\n",
        "vectorial con las operaciones restringidas, es que sea cerrado bajo combinaciones lineales. Cuando una aplicación entre dos espacios vectoriales lleva combinaciones lineales de vectores en la combinación lineal de las imágenes de los vectores con los mismos coeficientes, está conservando la propiedad esencial de la estructura de espacio vectorial; éstas son las llamadas *transformaciones lineales*.\n",
        "\n",
        "Así como el usuario seguramente conocía varios ejemplos de espacios vectoriales aún antes de serle presentado el concepto, así también descubrirá que conoce varios ejemplos de transformaciones lineales. Precisemos primero la definición.\n",
        "\n",
        "**Definición.** Una aplicación $T: V \\mapsto W$ entre dos espacios vectoriales es una *transformación lineal* si la imagen de una combinación lineal de vectores en $V$ puede obtenerse como la combinación lineal en $W$ de las imágenes de los vectores originales con los mismos coeficientes; en símbolos,\n",
        "\n",
        "$$T(\\lambda u + \\mu v) = \\lambda T(u) + \\mu T(v),$$\n",
        "\n",
        "para cualesquiera $u,v \\in V$; con $\\lambda,\\mu \\in \\mathbb{R}$. "
      ]
    },
    {
      "cell_type": "markdown",
      "metadata": {
        "id": "Xo3napzEKvXF"
      },
      "source": [
        "Como es sabido basta conocer las imágenes bajo $T$ de los vectores de una base en $V$ para poder determinar la imagen (bajo $T$) de cualquier otro vector. Pero de hecho, si se *fija* una base en el dominio y una en el contradominio\n",
        "de $T$ hay un instrumento auxiliar con el cual identificarla: las matrices.\n",
        "\n",
        "El teorema siguiente muestra cómo se construye la matriz de una transformación lineal cuando se especifican las bases en el dominio y el contradominio\n",
        "de una tal transformaci´on.\n",
        "\n",
        "**Teorema** Si $V$ y $W$ son dos espacios vectoriales de dimensión finita y $T:\n",
        "V \\mapsto W$ es una transformación lineal, dadas bases $\\{e_1, e_2, \\ldots, e_n\\}$ de $V$ y $\\{f_1, f_2, \\ldots, f_m\\}$ de $W$, la matriz cuyas columnas son $\\{T(e_1),T(e_2),\\ldots,T(e_n)\\}$ expresados en coordenadas respecto a la base de $W$, permite obtener la imagen de cualquier otro vector $v$ bajo $T$ con sólo multiplicar dicha matriz por el vector columna de las coordenadas $(a_1, a_2,\\ldots,a_n)$ de $v$ respecto a la base dada de $V$ (obsérvese que la multiplicación tiene sentido sólo si la matriz está a la izquierda del vector columna); es decir,\n",
        "\n",
        "![](https://i.imgur.com/0kDUN1h.png)\n",
        "\n",
        "**Observación.** Es muy importante notar que la matriz *depende* de las bases\n",
        "elegidas tanto en el dominio como en el contradominio, aunque en este notebook,\n",
        "salvo que se especifique lo contrario, el dominio y el contradominio serán\n",
        "iguales, ya sea $\\mathbb{R}^2$, $\\mathbb{R}^3$ ó $\\mathbb{R}^n$, y en cada caso se usará siempre la base canónica."
      ]
    },
    {
      "cell_type": "markdown",
      "metadata": {
        "id": "6f3ksAqEN4sZ"
      },
      "source": [
        "* A continuación implementaremos un código para construir las matrices asociadas, en las *bases canónicas*, de transformaciones lineales de $\\mathbb{R}^n$ a $\\mathbb{R}^n$:"
      ]
    },
    {
      "cell_type": "code",
      "metadata": {
        "id": "91TBV8fAO_j-"
      },
      "source": [
        "import sympy as sym\n",
        "\n",
        "def matriz_de(transformacion):\n",
        "    transformacion = sym.sympify(transformacion)\n",
        "    Matriz = sym.Matrix([]) # Crear un matriz 'vacía'\n",
        "    for key in transformacion:\n",
        "        Matriz = Matriz.col_insert(key.index(1), sym.Matrix(transformacion[key]))\n",
        "    return Matriz"
      ],
      "execution_count": null,
      "outputs": []
    },
    {
      "cell_type": "markdown",
      "metadata": {
        "id": "MXm7IBkIzyVO"
      },
      "source": [
        "**Nota.** De no marcar error la celda de código, lo siguiente debería ir como documentación de la función `matriz_de_T`:\n",
        "\n",
        "    ''' \n",
        "    Construye la matriz de un operador lineal en R^n respecto a la base canónica de este espacio vectorial.\n",
        "\n",
        "        Parámetros\n",
        "        ==========\n",
        "        :transformacion:\n",
        "            Es un diccionario que tiene como llaves/claves tuplas que emulan los elementos de la base canónica en R^n\n",
        "            y donde los respectivos valores de las llaves/claves son también tuplas que emulan la imagen del elemento básico \n",
        "            bajo (la correspondiente) transformacion lineal.\n",
        "        \n",
        "        Returns\n",
        "        =======\n",
        "            Una matriz simbólica.\n",
        "    '''"
      ]
    },
    {
      "cell_type": "markdown",
      "metadata": {
        "id": "_C5jWz_u0-ec"
      },
      "source": [
        "A continuación construiremos las matrices asociadas, en las bases canónicas, a los ejemplos de transformaciones lineales que vimos en el inciso anterior."
      ]
    },
    {
      "cell_type": "markdown",
      "metadata": {
        "id": "FEBtQl4J1E7T"
      },
      "source": [
        "**Ejemplo 1.** Para la homotecia de razón $\\mathbb{R}^2$, se tiene\n",
        ">$H_{k}(1, 0) = (k, 0)$,  \n",
        ">$H_{k}(0, 1) = (0, k)$,\n",
        "\n",
        "entonces la matriz de dicha homotecia es:"
      ]
    },
    {
      "cell_type": "code",
      "metadata": {
        "id": "4ivLewoG1WZg"
      },
      "source": [
        "H_k = {(1,0): ('k',0), (0,1): (0,'k')}\n",
        "\n",
        "matriz_de(H_k)"
      ],
      "execution_count": null,
      "outputs": []
    },
    {
      "cell_type": "markdown",
      "metadata": {
        "id": "OmsWIeiH15lH"
      },
      "source": [
        "**Ejemplo 2.** Para la proyección de $\\mathbb{R}^3$ en el plano $XY$, las imágenes de los vectores básicos son\n",
        ">$\\Pi_{XY}(1, 0, 0) = (1, 0, 0)$,  \n",
        ">$\\Pi_{XY}(0, 1, 0) = (0, 1, 0)$,  \n",
        ">$\\Pi_{XY}(0, 0, 1) = (0, 0, 0)$,\n",
        "\n",
        "por lo que la matriz de esta proyección es:"
      ]
    },
    {
      "cell_type": "code",
      "metadata": {
        "id": "Cpu7FIVv2lBK"
      },
      "source": [
        "P_XY = {(1,0,0): (1,0,0), (0,1,0): (0,1,0), (0,0,1): (0,0,0)}\n",
        "\n",
        "matriz_de(P_XY)"
      ],
      "execution_count": null,
      "outputs": []
    },
    {
      "cell_type": "markdown",
      "metadata": {
        "id": "cv1lqKYb3Q3Q"
      },
      "source": [
        "**Ejemplo 3.** Para la rotación en $\\mathbb{R}^2$ con centro en el origen por un ángulo $\\phi$, se tiene\n",
        ">$R_{0_{\\phi}}(1, 0) = (\\cos{\\phi}, \\sin{\\phi})$,  \n",
        ">$R_{0_{\\phi}}(0, 1) = (-\\sin{\\phi}, \\cos{\\phi})$, \n",
        "\n",
        "por tanto, la matriz correspondiente es:"
      ]
    },
    {
      "cell_type": "code",
      "metadata": {
        "id": "zFbuEZ5Y4BCr"
      },
      "source": [
        "R0_phi = {(1,0): ('cos(phi)','sin(phi)'), (0,1): ('-sin(phi)','cos(phi)')}\n",
        "\n",
        "matriz_de(R0_phi)"
      ],
      "execution_count": null,
      "outputs": []
    },
    {
      "cell_type": "markdown",
      "metadata": {
        "id": "Ax5huwZE7QbB"
      },
      "source": [
        "Ahora, para obtener la imagen de un punto/vector $(x, y) \\in \\mathbb{R}^2$ podemos proceder de la siguiente manera:"
      ]
    },
    {
      "cell_type": "code",
      "metadata": {
        "id": "7VEiQMNi7cHV"
      },
      "source": [
        "x, y = sym.symbols('x y')\n",
        "\n",
        "matriz_de(R0_phi)*sym.Matrix([[x],[y]])"
      ],
      "execution_count": null,
      "outputs": []
    },
    {
      "cell_type": "markdown",
      "metadata": {
        "id": "e4ga4Col8Scn"
      },
      "source": [
        "**Ejemplo 4.** Para la reflexión en $\\mathbb{R}^2$ respecto a la recta por el origen que forma un ángulo $\\theta$ respecto a la parte positiva del eje $X$, los transformados de los vectores básicos son\n",
        ">$Re_{l(\\theta)}(1, 0) = (\\cos{2\\theta}, \\sin{2\\theta})$,  \n",
        ">$Re_{l(\\theta)}(0, 1) = (\\sin{2\\theta}, -\\cos{2\\theta})$, \n",
        "\n",
        "por lo que la matriz correspondiente es:"
      ]
    },
    {
      "cell_type": "code",
      "metadata": {
        "id": "y70l8OdC9dhs"
      },
      "source": [
        "Re_theta = {(1,0): ('cos(2*theta)','sin(2*theta)'), (0,1): ('sin(2*theta)','-cos(2*theta)')}\n",
        "\n",
        "matriz_de(Re_theta)"
      ],
      "execution_count": null,
      "outputs": []
    },
    {
      "cell_type": "markdown",
      "metadata": {
        "id": "U9e1zDpY-Gxz"
      },
      "source": [
        "El transformado de $(x, y)$ se obtiene mediante la multiplicación siguiente:"
      ]
    },
    {
      "cell_type": "code",
      "metadata": {
        "id": "Br-9Yci--KzP"
      },
      "source": [
        "x, y = sym.symbols('x y')\n",
        "\n",
        "matriz_de(Re_theta)*sym.Matrix([[x],[y]])"
      ],
      "execution_count": null,
      "outputs": []
    },
    {
      "cell_type": "markdown",
      "metadata": {
        "id": "1h3mbhvp-v0G"
      },
      "source": [
        "**Ejercicio.** Calcule las matrices de los `Ejemplos 5, 6 y 7` de las páginas 289 y 290 del libro *GEOMETRÍA ANALÍTICA: Una introducción a la geometría* de Ana Irene Ramírez-Galarza."
      ]
    }
  ]
}